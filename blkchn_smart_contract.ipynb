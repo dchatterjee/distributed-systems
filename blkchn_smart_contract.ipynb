{
 "cells": [
  {
   "cell_type": "code",
   "execution_count": 3,
   "id": "558f4729-a8b5-44b0-8a23-addb55a902a8",
   "metadata": {},
   "outputs": [
    {
     "name": "stdout",
     "output_type": "stream",
     "text": [
      "True\n"
     ]
    }
   ],
   "source": [
    "from web3 import Web3\n",
    "w3 = Web3(Web3.EthereumTesterProvider())\n",
    "print(w3.isConnected())"
   ]
  },
  {
   "cell_type": "code",
   "execution_count": 4,
   "id": "252a54ba-f3cd-449a-aca3-ec6f8156ca16",
   "metadata": {},
   "outputs": [
    {
     "name": "stderr",
     "output_type": "stream",
     "text": [
      "/home/student/anaconda3/lib/python3.8/site-packages/ipykernel/ipkernel.py:287: DeprecationWarning: `should_run_async` will not call `transform_cell` automatically in the future. Please pass the result to `transformed_cell` argument and any exception that happen during thetransform in `preprocessing_exc_tuple` in IPython 7.17 and above.\n",
      "  and should_run_async(code)\n"
     ]
    },
    {
     "data": {
      "text/plain": [
       "['0x7E5F4552091A69125d5DfCb7b8C2659029395Bdf',\n",
       " '0x2B5AD5c4795c026514f8317c7a215E218DcCD6cF',\n",
       " '0x6813Eb9362372EEF6200f3b1dbC3f819671cBA69',\n",
       " '0x1efF47bc3a10a45D4B230B5d10E37751FE6AA718',\n",
       " '0xe1AB8145F7E55DC933d51a18c793F901A3A0b276',\n",
       " '0xE57bFE9F44b819898F47BF37E5AF72a0783e1141',\n",
       " '0xd41c057fd1c78805AAC12B0A94a405c0461A6FBb',\n",
       " '0xF1F6619B38A98d6De0800F1DefC0a6399eB6d30C',\n",
       " '0xF7Edc8FA1eCc32967F827C9043FcAe6ba73afA5c',\n",
       " '0x4CCeBa2d7D2B4fdcE4304d3e09a1fea9fbEb1528']"
      ]
     },
     "execution_count": 4,
     "metadata": {},
     "output_type": "execute_result"
    }
   ],
   "source": [
    "w3.eth.accounts "
   ]
  },
  {
   "cell_type": "code",
   "execution_count": 5,
   "id": "5176ef10-e0e0-46de-8e8a-057afa4b53ad",
   "metadata": {},
   "outputs": [
    {
     "name": "stdout",
     "output_type": "stream",
     "text": [
      "Account: 0x7E5F4552091A69125d5DfCb7b8C2659029395Bdf, balance: 1000000000000000000000000 wei = 1000000 ether\n",
      "Account: 0x2B5AD5c4795c026514f8317c7a215E218DcCD6cF, balance: 1000000000000000000000000 wei = 1000000 ether\n",
      "Account: 0x6813Eb9362372EEF6200f3b1dbC3f819671cBA69, balance: 1000000000000000000000000 wei = 1000000 ether\n",
      "Account: 0x1efF47bc3a10a45D4B230B5d10E37751FE6AA718, balance: 1000000000000000000000000 wei = 1000000 ether\n",
      "Account: 0xe1AB8145F7E55DC933d51a18c793F901A3A0b276, balance: 1000000000000000000000000 wei = 1000000 ether\n",
      "Account: 0xE57bFE9F44b819898F47BF37E5AF72a0783e1141, balance: 1000000000000000000000000 wei = 1000000 ether\n",
      "Account: 0xd41c057fd1c78805AAC12B0A94a405c0461A6FBb, balance: 1000000000000000000000000 wei = 1000000 ether\n",
      "Account: 0xF1F6619B38A98d6De0800F1DefC0a6399eB6d30C, balance: 1000000000000000000000000 wei = 1000000 ether\n",
      "Account: 0xF7Edc8FA1eCc32967F827C9043FcAe6ba73afA5c, balance: 1000000000000000000000000 wei = 1000000 ether\n",
      "Account: 0x4CCeBa2d7D2B4fdcE4304d3e09a1fea9fbEb1528, balance: 1000000000000000000000000 wei = 1000000 ether\n"
     ]
    }
   ],
   "source": [
    "for account in w3.eth.accounts:\n",
    "    balance = w3.eth.get_balance(account)\n",
    "    print(f'Account: {account}, balance: {balance} wei = {w3.fromWei(balance, \"ether\")} ether')"
   ]
  },
  {
   "cell_type": "code",
   "execution_count": 6,
   "id": "802119eb-b4a6-4d24-99af-01f7ff921a58",
   "metadata": {},
   "outputs": [
    {
     "data": {
      "text/plain": [
       "HexBytes('0xe6dd40cdeff86105912b0f79065224c73e5a32d7e625f790effa16419e25e073')"
      ]
     },
     "execution_count": 6,
     "metadata": {},
     "output_type": "execute_result"
    }
   ],
   "source": [
    "w3.eth.send_transaction({\n",
    "    'from': w3.eth.accounts[0],\n",
    "    'to': w3.eth.accounts[1],\n",
    "    'value': w3.toWei(5, 'ether')\n",
    "})"
   ]
  },
  {
   "cell_type": "code",
   "execution_count": 7,
   "id": "edab7a90-e90c-49e3-8f85-05b2ce489f1c",
   "metadata": {},
   "outputs": [
    {
     "name": "stdout",
     "output_type": "stream",
     "text": [
      "Account: 0x7E5F4552091A69125d5DfCb7b8C2659029395Bdf, balance: 999994.999979\n",
      "Account: 0x2B5AD5c4795c026514f8317c7a215E218DcCD6cF, balance: 1000005\n"
     ]
    }
   ],
   "source": [
    "for account in w3.eth.accounts[0:2]:\n",
    "    print(f'Account: {account}, balance: {w3.fromWei(w3.eth.get_balance(account), \"ether\")}')"
   ]
  },
  {
   "cell_type": "code",
   "execution_count": 10,
   "id": "c8b17bf4-f753-4921-af83-461c02eca53a",
   "metadata": {},
   "outputs": [
    {
     "data": {
      "text/plain": [
       "1000000000"
      ]
     },
     "execution_count": 10,
     "metadata": {},
     "output_type": "execute_result"
    }
   ],
   "source": [
    "w3.eth.gas_price"
   ]
  },
  {
   "cell_type": "code",
   "execution_count": 11,
   "id": "d7444901-7e20-404d-836c-83aa6437c6d9",
   "metadata": {},
   "outputs": [
    {
     "data": {
      "text/plain": [
       "AttributeDict({'transactionHash': HexBytes('0xe6dd40cdeff86105912b0f79065224c73e5a32d7e625f790effa16419e25e073'),\n",
       " 'transactionIndex': 0,\n",
       " 'blockNumber': 1,\n",
       " 'blockHash': HexBytes('0xe4b332a87479d7385648cb0d92097ecfa453dff0b0efca6712ad4494476cccd5'),\n",
       " 'cumulativeGasUsed': 21000,\n",
       " 'gasUsed': 21000,\n",
       " 'effectiveGasPrice': 1000000000,\n",
       " 'contractAddress': None,\n",
       " 'logs': [],\n",
       " 'type': '0x2',\n",
       " 'status': 1})"
      ]
     },
     "execution_count": 11,
     "metadata": {},
     "output_type": "execute_result"
    }
   ],
   "source": [
    "w3.eth.get_transaction_receipt('0xe6dd40cdeff86105912b0f79065224c73e5a32d7e625f790effa16419e25e073')"
   ]
  },
  {
   "cell_type": "code",
   "execution_count": 12,
   "id": "81cfad74-a53a-4a2d-a9a7-ae953e6c96d9",
   "metadata": {},
   "outputs": [
    {
     "data": {
      "text/plain": [
       "Version('0.8.11')"
      ]
     },
     "execution_count": 12,
     "metadata": {},
     "output_type": "execute_result"
    }
   ],
   "source": [
    "import solcx\n",
    "solcx.install_solc()"
   ]
  },
  {
   "cell_type": "code",
   "execution_count": 14,
   "id": "ba632807-2d18-4de2-95a1-d787e3247d3a",
   "metadata": {},
   "outputs": [
    {
     "name": "stdout",
     "output_type": "stream",
     "text": [
      "contract_id = storage.sol:SimpleStorage\n",
      "contract_interface = {'abi': [{'inputs': [], 'name': 'get', 'outputs': [{'internalType': 'uint256', 'name': '', 'type': 'uint256'}], 'stateMutability': 'view', 'type': 'function'}, {'inputs': [{'internalType': 'uint256', 'name': 'x', 'type': 'uint256'}], 'name': 'set', 'outputs': [], 'stateMutability': 'nonpayable', 'type': 'function'}], 'bin': '608060405234801561001057600080fd5b50610150806100206000396000f3fe608060405234801561001057600080fd5b50600436106100365760003560e01c806360fe47b11461003b5780636d4ce63c14610057575b600080fd5b610055600480360381019061005091906100c3565b610075565b005b61005f61007f565b60405161006c91906100ff565b60405180910390f35b8060008190555050565b60008054905090565b600080fd5b6000819050919050565b6100a08161008d565b81146100ab57600080fd5b50565b6000813590506100bd81610097565b92915050565b6000602082840312156100d9576100d8610088565b5b60006100e7848285016100ae565b91505092915050565b6100f98161008d565b82525050565b600060208201905061011460008301846100f0565b9291505056fea264697066735822122031a89ef15ea1348647b183fff219ed97c6074788708b30c2dd3c3892a9890e8564736f6c634300080b0033'}\n"
     ]
    }
   ],
   "source": [
    "compiled_sol = solcx.compile_files(\n",
    "    ['storage.sol'], \n",
    "    output_values=[\"abi\", \"bin\"],\n",
    "    solc_version='0.8.11'\n",
    ")\n",
    "contract_id, contract_interface = compiled_sol.popitem()\n",
    "print(f'contract_id = {contract_id}')\n",
    "print(f'contract_interface = {contract_interface}')"
   ]
  },
  {
   "cell_type": "code",
   "execution_count": 15,
   "id": "f2e0cfc1-f6db-4212-b6f4-93fd480ee326",
   "metadata": {},
   "outputs": [],
   "source": [
    "tx_hash = w3.eth.contract(\n",
    "    abi=contract_interface['abi'],\n",
    "    bytecode=contract_interface['bin']\n",
    ").constructor().transact()"
   ]
  },
  {
   "cell_type": "code",
   "execution_count": 16,
   "id": "571739ba-4f66-4b3a-9a71-69960bbb932e",
   "metadata": {},
   "outputs": [
    {
     "name": "stdout",
     "output_type": "stream",
     "text": [
      "address = 0x2946259E0334f33A064106302415aD3391BeD384\n"
     ]
    }
   ],
   "source": [
    "address = w3.eth.get_transaction_receipt(tx_hash)['contractAddress']\n",
    "print(f'address = {address}')"
   ]
  },
  {
   "cell_type": "code",
   "execution_count": 17,
   "id": "357eb342-83cd-4130-8991-c7428d7e3094",
   "metadata": {},
   "outputs": [],
   "source": [
    "contract = w3.eth.contract(address=address, abi=contract_interface[\"abi\"])"
   ]
  },
  {
   "cell_type": "code",
   "execution_count": 20,
   "id": "f1c979cf-ffd8-43bc-9a95-656553140fd1",
   "metadata": {},
   "outputs": [
    {
     "data": {
      "text/plain": [
       "0"
      ]
     },
     "execution_count": 20,
     "metadata": {},
     "output_type": "execute_result"
    }
   ],
   "source": [
    "contract.functions.get().call() "
   ]
  },
  {
   "cell_type": "code",
   "execution_count": 22,
   "id": "8f78a3b7-e309-4bb2-929b-9339ff75b9d9",
   "metadata": {},
   "outputs": [
    {
     "name": "stdout",
     "output_type": "stream",
     "text": [
      "AttributeDict({'transactionHash': HexBytes('0x4f4f07c90097424f312fc20d324569351f069e2ffc31ca9226c28e07de352e56'), 'transactionIndex': 0, 'blockNumber': 3, 'blockHash': HexBytes('0x9a3f63f44e6e44f0c5cd20d5996c98e1ab698d5431c3a31ccd71013a56e1892c'), 'cumulativeGasUsed': 43702, 'gasUsed': 43702, 'effectiveGasPrice': 1000000000, 'contractAddress': None, 'logs': [], 'type': '0x2', 'status': 1})\n"
     ]
    }
   ],
   "source": [
    "tx_hash = contract.functions.set(100).transact()\n",
    "receipt = w3.eth.wait_for_transaction_receipt(tx_hash)\n",
    "print(receipt)"
   ]
  },
  {
   "cell_type": "code",
   "execution_count": 23,
   "id": "fbc1749e-ba81-4378-9c0e-69da23c28690",
   "metadata": {},
   "outputs": [
    {
     "data": {
      "text/plain": [
       "100"
      ]
     },
     "execution_count": 23,
     "metadata": {},
     "output_type": "execute_result"
    }
   ],
   "source": [
    "contract.functions.get().call()"
   ]
  },
  {
   "cell_type": "code",
   "execution_count": null,
   "id": "05080be7-e1f7-4de4-a32d-57be8a871a7d",
   "metadata": {},
   "outputs": [],
   "source": []
  }
 ],
 "metadata": {
  "kernelspec": {
   "display_name": "Python 3",
   "language": "python",
   "name": "python3"
  },
  "language_info": {
   "codemirror_mode": {
    "name": "ipython",
    "version": 3
   },
   "file_extension": ".py",
   "mimetype": "text/x-python",
   "name": "python",
   "nbconvert_exporter": "python",
   "pygments_lexer": "ipython3",
   "version": "3.8.8"
  }
 },
 "nbformat": 4,
 "nbformat_minor": 5
}
